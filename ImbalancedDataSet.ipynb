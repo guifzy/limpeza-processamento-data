{
  "nbformat": 4,
  "nbformat_minor": 0,
  "metadata": {
    "colab": {
      "provenance": [],
      "authorship_tag": "ABX9TyMv0rlkkVNzvwwVARBDdAuS",
      "include_colab_link": true
    },
    "kernelspec": {
      "name": "python3",
      "display_name": "Python 3"
    },
    "language_info": {
      "name": "python"
    }
  },
  "cells": [
    {
      "cell_type": "markdown",
      "metadata": {
        "id": "view-in-github",
        "colab_type": "text"
      },
      "source": [
        "<a href=\"https://colab.research.google.com/github/guifzy/limpeza-processamento-data/blob/main/ImbalancedDataSet.ipynb\" target=\"_parent\"><img src=\"https://colab.research.google.com/assets/colab-badge.svg\" alt=\"Open In Colab\"/></a>"
      ]
    },
    {
      "cell_type": "markdown",
      "source": [
        "**Imbalanced DataFrame:** quando uma coluna do DataFrame tem um grupo de valores com uma quantidade de dados muito maior que outro.\n",
        "\n",
        "Por exemplo, uma coluna tem dois valores, 0 e 1, ao usar o comando .value_counts é possivel identificar a quantidade de 0 e 1 em uma coluna, caso um desses valores tenha uma quantidade muito maior de dados, é possível considerar o Data Frame desbalanceado."
      ],
      "metadata": {
        "id": "s4-UQGAo2G1u"
      }
    },
    {
      "cell_type": "markdown",
      "source": [
        "**Under-sampling:** técnica que consiste em criar um pequeno dataset com valores similarmente destribuidos"
      ],
      "metadata": {
        "id": "jf5VG3Q23X60"
      }
    },
    {
      "cell_type": "code",
      "source": [
        "import numpy as np\n",
        "import pandas as pd"
      ],
      "metadata": {
        "id": "COJSbSFb41q5"
      },
      "execution_count": null,
      "outputs": []
    },
    {
      "cell_type": "code",
      "source": [
        "#primeiro passo é dividir o dataframe com os valores chaver a serem equilibrados\n",
        "\n",
        "valor1 = nome_do_dataframe[nome_do_dataframe.Class == valor_desigual]\n",
        "valor2 = nome_do_dataframe[nome_do_dataframe.Class == valor_desigua2]"
      ],
      "metadata": {
        "id": "NsBd_LBW3XJq"
      },
      "execution_count": null,
      "outputs": []
    },
    {
      "cell_type": "code",
      "execution_count": null,
      "metadata": {
        "id": "OCy-4wWO1-GU"
      },
      "outputs": [],
      "source": [
        "#selecione a quantidade de dados que quer do dataframe dividido\n",
        "\n",
        "valor1_oficial = valor1.sample(n= quantidade_de_dados)"
      ]
    },
    {
      "cell_type": "code",
      "source": [
        "#junte os dois\n",
        "\n",
        "novo_dataframe = pd.concat(valor1_oficial, valor2, axis= 0)"
      ],
      "metadata": {
        "id": "ztQzAJdA5p5V"
      },
      "execution_count": null,
      "outputs": []
    }
  ]
}