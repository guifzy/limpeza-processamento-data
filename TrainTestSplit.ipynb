{
  "nbformat": 4,
  "nbformat_minor": 0,
  "metadata": {
    "colab": {
      "provenance": [],
      "authorship_tag": "ABX9TyP2RaVgWVRR4Wmg/j9XXVpx",
      "include_colab_link": true
    },
    "kernelspec": {
      "name": "python3",
      "display_name": "Python 3"
    },
    "language_info": {
      "name": "python"
    }
  },
  "cells": [
    {
      "cell_type": "markdown",
      "metadata": {
        "id": "view-in-github",
        "colab_type": "text"
      },
      "source": [
        "<a href=\"https://colab.research.google.com/github/guifzy/limpeza-processamento-data/blob/main/TrainTestSplit.ipynb\" target=\"_parent\"><img src=\"https://colab.research.google.com/assets/colab-badge.svg\" alt=\"Open In Colab\"/></a>"
      ]
    },
    {
      "cell_type": "markdown",
      "source": [
        "**Train x Test:** Consiste em dividir o dataframe em duas partes, uma parte de treinamento do módulo de IA e a outra parte para testes de capacidade dessa IA."
      ],
      "metadata": {
        "id": "XqQ-tQiOiDhO"
      }
    },
    {
      "cell_type": "code",
      "execution_count": 1,
      "metadata": {
        "id": "8Bgt4ds8h9NE"
      },
      "outputs": [],
      "source": [
        "#importando as bibliotecas basicas\n",
        "from sklearn.model_selection import train_test_split\n",
        "from sklearn import svm\n",
        "from sklearn.metrics import accuracy_score"
      ]
    },
    {
      "cell_type": "code",
      "source": [
        "#função para divisao\n",
        "test, train = train_test_split(nome_do_dataframe, test_size =0.2, random_state=2)"
      ],
      "metadata": {
        "id": "KKoW1uge1bxY"
      },
      "execution_count": null,
      "outputs": []
    }
  ]
}