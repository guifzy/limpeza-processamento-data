{
  "nbformat": 4,
  "nbformat_minor": 0,
  "metadata": {
    "colab": {
      "provenance": [],
      "authorship_tag": "ABX9TyN+fPCQpcKAa67iEd1KWdzo",
      "include_colab_link": true
    },
    "kernelspec": {
      "name": "python3",
      "display_name": "Python 3"
    },
    "language_info": {
      "name": "python"
    }
  },
  "cells": [
    {
      "cell_type": "markdown",
      "metadata": {
        "id": "view-in-github",
        "colab_type": "text"
      },
      "source": [
        "<a href=\"https://colab.research.google.com/github/guifzy/limpeza-processamento-data/blob/main/Valores_Perdidos.ipynb\" target=\"_parent\"><img src=\"https://colab.research.google.com/assets/colab-badge.svg\" alt=\"Open In Colab\"/></a>"
      ]
    },
    {
      "cell_type": "markdown",
      "source": [
        "**Valores Perdidos em Data Frames**\n",
        "\n"
      ],
      "metadata": {
        "id": "m07q-fZrdt6j"
      }
    },
    {
      "cell_type": "markdown",
      "source": [
        "Formas de lidar:\n",
        "*   Dropping\n",
        "*   Inputation\n",
        "\n",
        "\n",
        "\n",
        "\n",
        "\n",
        "\n"
      ],
      "metadata": {
        "id": "8j-sl2vBseEk"
      }
    },
    {
      "cell_type": "markdown",
      "source": [
        "**Droping:** Droping se resume a remover as linhas com valores perdidos, o que apesar de ser simples pode não ser eficaz em situações com Data Frames de poucos dados."
      ],
      "metadata": {
        "id": "qBhVXM72sy92"
      }
    },
    {
      "cell_type": "markdown",
      "source": [
        "**Inputation:** preenche os espaços vazios a partir dos dados anteriores de sua mesma coluna usando alguns conceitos de prob e estatistica chamadas **Tendencias Centrais:**\n",
        "\n",
        "\n",
        "*   **Mean**: média dos valores\n",
        "*   **Median**: ordenar os valores e em seguida pegar o valor mais ao centro da lista, em caso de listas impares, fazer a média entre os valores ao centro\n",
        "*   **Mode** : número que aparece com mais ferquencia na lista\n",
        "\n",
        "\n",
        "\n",
        "\n"
      ],
      "metadata": {
        "id": "eaUfWyv0tFIT"
      }
    },
    {
      "cell_type": "markdown",
      "source": [
        "Para fazer estas operações em um data frame deve ser feito o seguinte:\n"
      ],
      "metadata": {
        "id": "I66EKn-PuvRV"
      }
    },
    {
      "cell_type": "code",
      "source": [
        "import pandas as pd\n",
        "import matplotlib.pyplot as plt\n",
        "import seaborn as sns"
      ],
      "metadata": {
        "id": "7R5EQJk1JGrU"
      },
      "execution_count": null,
      "outputs": []
    },
    {
      "cell_type": "code",
      "source": [
        "# use o nome do dataframa e sua respectiva coluna:\n",
        "# dataset['salary'].fillna(dataset['salary'].mean(),inplace=True)\n",
        "# .mean(),inplace=True é a função usada para determinar a média."
      ],
      "metadata": {
        "id": "nPGUbdKbJPk4"
      },
      "execution_count": null,
      "outputs": []
    },
    {
      "cell_type": "code",
      "source": [
        "# .median(),inplace=True\n",
        "# .mode(),inplace=True"
      ],
      "metadata": {
        "id": "NYxyu7WpKdWA"
      },
      "execution_count": null,
      "outputs": []
    },
    {
      "cell_type": "markdown",
      "source": [
        "Para realizar o droping:"
      ],
      "metadata": {
        "id": "c8ntxx7TK0Rp"
      }
    },
    {
      "cell_type": "code",
      "source": [
        "# use o nome do dataframa:\n",
        "# salary_dataset = salary_dataset.dropna(how='any')\n",
        "# .dropna(how='any') é a função que irá remover todos os valores não disponiveis, 'any' represente a remoção de qualquer valor vazio\n"
      ],
      "metadata": {
        "id": "m7nFyiAxK5uc"
      },
      "execution_count": null,
      "outputs": []
    }
  ]
}