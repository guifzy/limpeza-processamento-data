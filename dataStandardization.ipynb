{
  "nbformat": 4,
  "nbformat_minor": 0,
  "metadata": {
    "colab": {
      "provenance": [],
      "authorship_tag": "ABX9TyPSwxijvb1cYVvExApQF35i",
      "include_colab_link": true
    },
    "kernelspec": {
      "name": "python3",
      "display_name": "Python 3"
    },
    "language_info": {
      "name": "python"
    }
  },
  "cells": [
    {
      "cell_type": "markdown",
      "metadata": {
        "id": "view-in-github",
        "colab_type": "text"
      },
      "source": [
        "<a href=\"https://colab.research.google.com/github/guifzy/limpeza-processamento-data/blob/main/dataStandardization.ipynb\" target=\"_parent\"><img src=\"https://colab.research.google.com/assets/colab-badge.svg\" alt=\"Open In Colab\"/></a>"
      ]
    },
    {
      "cell_type": "markdown",
      "source": [
        "**Data Normalization x Standardization**"
      ],
      "metadata": {
        "id": "h1z2zxHRMMq9"
      }
    },
    {
      "cell_type": "markdown",
      "source": [
        "Normalization: transforma os dados de uma coluna de Data Frame em valores entre 0 e 1, sendo o valor minimo 0 e o maximo 1."
      ],
      "metadata": {
        "id": "rk8WNbb1MO9v"
      }
    },
    {
      "cell_type": "markdown",
      "source": [
        "Formula: x = x - min / max - min\n"
      ],
      "metadata": {
        "id": "N93BU-HXWm0k"
      }
    },
    {
      "cell_type": "code",
      "source": [
        "# biblioteca responsavel\n",
        "from sklearn.preprocessing import MinMaxScaler\n",
        "scaler = MinMaxScaler()\n",
        "data_frame = scaler.fit_transform(data_frame)"
      ],
      "metadata": {
        "id": "eaAE9J9EcW8O"
      },
      "execution_count": null,
      "outputs": []
    },
    {
      "cell_type": "markdown",
      "source": [
        "Standardization: o valor maximo e minimo não importam, este método foca nos valores da média e desvio padrão, respectivamente 0 e 1.\n",
        "\n",
        "Este método foca em perceber o quanto os valores estão estão próximos da média(desvio padrão)."
      ],
      "metadata": {
        "id": "zbg9DwOfYJp9"
      }
    },
    {
      "cell_type": "markdown",
      "source": [
        "Formula: x - media / desvio padrão"
      ],
      "metadata": {
        "id": "7tCO_XfocP07"
      }
    },
    {
      "cell_type": "code",
      "execution_count": null,
      "metadata": {
        "id": "K-iSujybL-PH"
      },
      "outputs": [],
      "source": [
        "# biblioteca responsavel\n",
        "from sklearn.preprocessing import StandardScaler\n",
        "scaler = StandardScaler()\n",
        "data_frame = scaler.fit_transform(data_frame)"
      ]
    }
  ]
}