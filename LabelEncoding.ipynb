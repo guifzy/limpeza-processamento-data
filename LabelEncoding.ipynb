{
  "nbformat": 4,
  "nbformat_minor": 0,
  "metadata": {
    "colab": {
      "provenance": [],
      "authorship_tag": "ABX9TyMkye5DJXjMoPOSoXgrcEsy",
      "include_colab_link": true
    },
    "kernelspec": {
      "name": "python3",
      "display_name": "Python 3"
    },
    "language_info": {
      "name": "python"
    }
  },
  "cells": [
    {
      "cell_type": "markdown",
      "metadata": {
        "id": "view-in-github",
        "colab_type": "text"
      },
      "source": [
        "<a href=\"https://colab.research.google.com/github/guifzy/limpeza-processamento-data/blob/main/LabelEncoding.ipynb\" target=\"_parent\"><img src=\"https://colab.research.google.com/assets/colab-badge.svg\" alt=\"Open In Colab\"/></a>"
      ]
    },
    {
      "cell_type": "markdown",
      "source": [
        "**Label Encoding:** se resume em transformar valores char de um data frama em inteiros\n",
        "\n",
        "Serve para facilitar a visualização de valores em um data frame, por exemplo:\n",
        "\n",
        "Um dataframe onde a coluna resultado apresenta os valores T e F para verdadeiro e falso, se tornaria 0 e 1."
      ],
      "metadata": {
        "id": "nFn0DLelgFCA"
      }
    },
    {
      "cell_type": "code",
      "execution_count": null,
      "metadata": {
        "id": "o_7S02Cof8gJ"
      },
      "outputs": [],
      "source": [
        "from sklearn.preprocessing import LabelEncoder\n",
        "\n",
        "label_encode = LabelEncoder()\n",
        "valores_convertidos = label_encode.fit_transform(cancer_data.diagnosis)\n",
        "\n",
        "data_frame['nome da nova coluna'] = valores_convertidos"
      ]
    }
  ]
}